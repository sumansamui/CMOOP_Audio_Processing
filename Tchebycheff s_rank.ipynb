{
 "cells": [
  {
   "cell_type": "code",
   "execution_count": 9,
   "id": "9a1e5e11",
   "metadata": {},
   "outputs": [
    {
     "name": "stdout",
     "output_type": "stream",
     "text": [
      "✅ Done. Ranked solutions saved to: ranked_MOBO.xlsx\n"
     ]
    }
   ],
   "source": [
    "import pandas as pd\n",
    "import numpy as np\n",
    "\n",
    "def tchebycheff_score(fx, z_star, weights):\n",
    "    \"\"\"\n",
    "    Tchebycheff scalarization function.\n",
    "    \n",
    "    Parameters:\n",
    "        fx (np.ndarray): Objective matrix of shape (n_samples, n_objectives)\n",
    "        z_star (np.ndarray): Ideal point (minimum for each objective)\n",
    "        weights (np.ndarray): Weight vector for objectives\n",
    "        \n",
    "    Returns:\n",
    "        np.ndarray: Scalarized scores (one per row)\n",
    "    \"\"\"\n",
    "    diff = np.abs(fx - z_star)\n",
    "    weighted = weights * diff\n",
    "    return np.max(weighted, axis=1)\n",
    "\n",
    "# === File Settings ===\n",
    "# input_file = \"rank_SA_NSGA.xlsx\"       # Replace with actual filename\n",
    "input_file = \"mobo_pareto.csv\"       # Replace with actual filename\n",
    "output_file = \"ranked_MOBO.xlsx\"\n",
    "sheet_name = \"Sheet1\"\n",
    "\n",
    "# === Step 1: Load Data ===\n",
    "# df = pd.read_excel(input_file, sheet_name=sheet_name)\n",
    "df = pd.read_csv(input_file)\n",
    "\n",
    "# === Step 2: Transform objectives to minimization form ===\n",
    "# Accuracy becomes (1 - Accuracy), Size_MB and FPR are already minimized\n",
    "df['1-Accuracy'] = 1.0 - df['Accuracy']\n",
    "objective_matrix = df[['1-Accuracy', 'Size_MB', 'FPR']].values\n",
    "\n",
    "# === Step 3: Compute Ideal Point (z*) ===\n",
    "z_star = objective_matrix.min(axis=0)\n",
    "\n",
    "# === Step 4: Define Equal Weights ===\n",
    "weights = np.array([1.0, 1.0, 1.0])\n",
    "weights = weights / weights.sum()  # Normalize to [1/3, 1/3, 1/3]\n",
    "\n",
    "# === Step 5: Calculate Tchebycheff Score ===\n",
    "df['Tchebycheff Score'] = tchebycheff_score(objective_matrix, z_star, weights)\n",
    "\n",
    "# === Step 6: Rank Based on Tchebycheff Score ===\n",
    "df['Rank'] = df['Tchebycheff Score'].rank(method='min', ascending=True).astype(int)\n",
    "\n",
    "# === Step 7: Save Output ===\n",
    "df_sorted = df.sort_values(by='Rank')  # Optional: sorted by best rank first\n",
    "df_sorted.to_excel(output_file, index=False)\n",
    "\n",
    "print(f\"✅ Done. Ranked solutions saved to: {output_file}\")\n"
   ]
  }
 ],
 "metadata": {
  "kernelspec": {
   "display_name": "gpu",
   "language": "python",
   "name": "python3"
  },
  "language_info": {
   "codemirror_mode": {
    "name": "ipython",
    "version": 3
   },
   "file_extension": ".py",
   "mimetype": "text/x-python",
   "name": "python",
   "nbconvert_exporter": "python",
   "pygments_lexer": "ipython3",
   "version": "3.11.8"
  }
 },
 "nbformat": 4,
 "nbformat_minor": 5
}
